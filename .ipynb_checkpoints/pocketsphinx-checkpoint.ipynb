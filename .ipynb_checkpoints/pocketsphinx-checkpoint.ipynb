{
 "cells": [
  {
   "cell_type": "code",
   "execution_count": 6,
   "metadata": {
    "ExecuteTime": {
     "end_time": "2019-03-20T19:06:36.119526Z",
     "start_time": "2019-03-20T19:05:20.688945Z"
    }
   },
   "outputs": [
    {
     "data": {
      "text/plain": [
       "<pocketsphinx.Pocketsphinx; proxy of <Swig Object of type 'Decoder *' at 0x000001AEECE4ED80> >"
      ]
     },
     "execution_count": 6,
     "metadata": {},
     "output_type": "execute_result"
    }
   ],
   "source": [
    "from __future__ import print_function\n",
    "import os\n",
    "from pocketsphinx import Pocketsphinx, get_model_path, get_data_path\n",
    "\n",
    "model_path = get_model_path()\n",
    "data_path = get_data_path()\n",
    "\n",
    "config = {\n",
    "'hmm': os.path.join(model_path, 'en-us'),\n",
    "'lm': os.path.join(model_path, 'en-us.lm.bin'),\n",
    "'dict': os.path.join(model_path, 'cmudict-en-us.dict')\n",
    "}\n",
    "ps = Pocketsphinx(**config)\n",
    "ps.decode(\n",
    "audio_file=os.path.join( 'put audio file here'), # add your audio file here\n",
    "buffer_size=2048,\n",
    "no_search=False,\n",
    "full_utt=False\n",
    ")"
   ]
  },
  {
   "cell_type": "code",
   "execution_count": 2,
   "metadata": {
    "ExecuteTime": {
     "end_time": "2019-03-20T19:04:24.215680Z",
     "start_time": "2019-03-20T19:04:24.210185Z"
    }
   },
   "outputs": [
    {
     "name": "stdout",
     "output_type": "stream",
     "text": [
      "are warped should really check to for hay bruce all the machines should ever happened lol to or i will literally a little should really have or had all for it all hot little league for all of which it'll all back to the little room for sure sure you will show her little shit and all were er da her eat more where are the for fall rich little cheryl i'm hanging in the war it or or or show or she will rule or what would clearly her or littler are you will carry a little hole or leaked sure we all are all legal or will you need care home you to or other shoe and car you are all hush hundred will shoot through her and revert all the loot will help her\n"
     ]
    }
   ],
   "source": [
    "print(ps.hypothesis())\n"
   ]
  },
  {
   "cell_type": "code",
   "execution_count": null,
   "metadata": {},
   "outputs": [],
   "source": []
  }
 ],
 "metadata": {
  "kernelspec": {
   "display_name": "Python 3",
   "language": "python",
   "name": "python3"
  },
  "language_info": {
   "codemirror_mode": {
    "name": "ipython",
    "version": 3
   },
   "file_extension": ".py",
   "mimetype": "text/x-python",
   "name": "python",
   "nbconvert_exporter": "python",
   "pygments_lexer": "ipython3",
   "version": "3.6.4"
  },
  "latex_envs": {
   "LaTeX_envs_menu_present": true,
   "autoclose": true,
   "autocomplete": true,
   "bibliofile": "biblio.bib",
   "cite_by": "apalike",
   "current_citInitial": 1,
   "eqLabelWithNumbers": true,
   "eqNumInitial": 1,
   "hotkeys": {
    "equation": "Ctrl-E",
    "itemize": "Ctrl-I"
   },
   "labels_anchors": false,
   "latex_user_defs": false,
   "report_style_numbering": true,
   "user_envs_cfg": false
  },
  "toc": {
   "base_numbering": 1,
   "nav_menu": {},
   "number_sections": true,
   "sideBar": true,
   "skip_h1_title": false,
   "title_cell": "Table of Contents",
   "title_sidebar": "Contents",
   "toc_cell": false,
   "toc_position": {},
   "toc_section_display": true,
   "toc_window_display": false
  },
  "varInspector": {
   "cols": {
    "lenName": 16,
    "lenType": 16,
    "lenVar": 40
   },
   "kernels_config": {
    "python": {
     "delete_cmd_postfix": "",
     "delete_cmd_prefix": "del ",
     "library": "var_list.py",
     "varRefreshCmd": "print(var_dic_list())"
    },
    "r": {
     "delete_cmd_postfix": ") ",
     "delete_cmd_prefix": "rm(",
     "library": "var_list.r",
     "varRefreshCmd": "cat(var_dic_list()) "
    }
   },
   "types_to_exclude": [
    "module",
    "function",
    "builtin_function_or_method",
    "instance",
    "_Feature"
   ],
   "window_display": false
  }
 },
 "nbformat": 4,
 "nbformat_minor": 2
}
