{
 "cells": [
  {
   "cell_type": "code",
   "execution_count": 1,
   "metadata": {
    "ExecuteTime": {
     "end_time": "2019-03-20T19:24:41.720461Z",
     "start_time": "2019-03-20T19:24:41.521693Z"
    }
   },
   "outputs": [],
   "source": [
    "from rev_ai import apiclient\n",
    "access_token= \"insert access token here\" # you will need to get it from the rev.ai site\n",
    "client = apiclient.RevAiAPIClient(access_token)\n",
    "\n",
    "\n"
   ]
  },
  {
   "cell_type": "code",
   "execution_count": 2,
   "metadata": {
    "ExecuteTime": {
     "end_time": "2019-03-20T19:25:18.705167Z",
     "start_time": "2019-03-20T19:25:16.816084Z"
    }
   },
   "outputs": [],
   "source": [
    "job = client.submit_job_local_file(\"44.2_split_1.wav\")\n"
   ]
  },
  {
   "cell_type": "code",
   "execution_count": 4,
   "metadata": {
    "ExecuteTime": {
     "end_time": "2019-03-20T19:26:22.050491Z",
     "start_time": "2019-03-20T19:26:21.944770Z"
    }
   },
   "outputs": [],
   "source": [
    "job_details = client.get_job_details(job.id)\n"
   ]
  },
  {
   "cell_type": "code",
   "execution_count": 9,
   "metadata": {
    "ExecuteTime": {
     "end_time": "2019-03-20T19:27:05.439558Z",
     "start_time": "2019-03-20T19:27:05.288962Z"
    }
   },
   "outputs": [],
   "source": [
    "transcript_text = client.get_transcript_text(job.id)\n"
   ]
  },
  {
   "cell_type": "code",
   "execution_count": 10,
   "metadata": {
    "ExecuteTime": {
     "end_time": "2019-03-20T19:27:11.006666Z",
     "start_time": "2019-03-20T19:27:11.000682Z"
    }
   },
   "outputs": [
    {
     "data": {
      "text/plain": [
       "\"Speaker 0    00:00    Hi everyone. Today we are going to talk about dimension soul changing. I mentioned, uh, I mentioned that change over time are slowly changing. Dimensions. There are two types. Type one impact I wouldn't, I mentioned are mainly I mentioned that will place the old values in the data warehouse. So let's say we have a product that's price is a hundred builders, and after some time, the price of the product changes to $200. So in our, uh, warehouse, the new addition, the new rule will replace the old road. So, uh, we will have a critical where the. \\n\""
      ]
     },
     "execution_count": 10,
     "metadata": {},
     "output_type": "execute_result"
    }
   ],
   "source": [
    "transcript_text\n"
   ]
  },
  {
   "cell_type": "code",
   "execution_count": null,
   "metadata": {},
   "outputs": [],
   "source": []
  }
 ],
 "metadata": {
  "kernelspec": {
   "display_name": "Python 3",
   "language": "python",
   "name": "python3"
  },
  "language_info": {
   "codemirror_mode": {
    "name": "ipython",
    "version": 3
   },
   "file_extension": ".py",
   "mimetype": "text/x-python",
   "name": "python",
   "nbconvert_exporter": "python",
   "pygments_lexer": "ipython3",
   "version": "3.6.4"
  },
  "latex_envs": {
   "LaTeX_envs_menu_present": true,
   "autoclose": true,
   "autocomplete": true,
   "bibliofile": "biblio.bib",
   "cite_by": "apalike",
   "current_citInitial": 1,
   "eqLabelWithNumbers": true,
   "eqNumInitial": 1,
   "hotkeys": {
    "equation": "Ctrl-E",
    "itemize": "Ctrl-I"
   },
   "labels_anchors": false,
   "latex_user_defs": false,
   "report_style_numbering": true,
   "user_envs_cfg": false
  },
  "toc": {
   "base_numbering": 1,
   "nav_menu": {},
   "number_sections": true,
   "sideBar": true,
   "skip_h1_title": false,
   "title_cell": "Table of Contents",
   "title_sidebar": "Contents",
   "toc_cell": false,
   "toc_position": {},
   "toc_section_display": true,
   "toc_window_display": false
  },
  "varInspector": {
   "cols": {
    "lenName": 16,
    "lenType": 16,
    "lenVar": 40
   },
   "kernels_config": {
    "python": {
     "delete_cmd_postfix": "",
     "delete_cmd_prefix": "del ",
     "library": "var_list.py",
     "varRefreshCmd": "print(var_dic_list())"
    },
    "r": {
     "delete_cmd_postfix": ") ",
     "delete_cmd_prefix": "rm(",
     "library": "var_list.r",
     "varRefreshCmd": "cat(var_dic_list()) "
    }
   },
   "types_to_exclude": [
    "module",
    "function",
    "builtin_function_or_method",
    "instance",
    "_Feature"
   ],
   "window_display": false
  }
 },
 "nbformat": 4,
 "nbformat_minor": 2
}
